{
 "cells": [
  {
   "cell_type": "markdown",
   "metadata": {
    "application/vnd.databricks.v1+cell": {
     "cellMetadata": {
      "byteLimit": 2048000,
      "rowLimit": 10000
     },
     "inputWidgets": {},
     "nuid": "c6db07f3-8b5e-47a0-abcb-fe7efc365340",
     "showTitle": false,
     "tableResultSettingsMap": {},
     "title": ""
    }
   },
   "source": [
    "# Simulando Dados \n"
   ]
  },
  {
   "cell_type": "code",
   "execution_count": 0,
   "metadata": {
    "application/vnd.databricks.v1+cell": {
     "cellMetadata": {
      "byteLimit": 2048000,
      "rowLimit": 10000
     },
     "inputWidgets": {},
     "nuid": "fe4da58e-f3e3-4451-b65f-c75ce3eae319",
     "showTitle": false,
     "tableResultSettingsMap": {},
     "title": ""
    }
   },
   "outputs": [],
   "source": [
    "from pyspark.sql import SparkSession\n",
    "from pyspark.sql.types import StructType, StructField, IntegerType, StringType, DoubleType\n",
    "from pyspark.sql.functions import col, sum, avg\n",
    "\n",
    "#OBS: as 3 linhas de codigo estão comentadas pois a versão free do databricks não me permite ler arquivos do storage/DBFS\n",
    "#vendas_df = spark.read.csv(\"dbfs:/FileStore/tables/vendas.csv\", header=True, inferSchema=True)\n",
    "#clientes_df = spark.read.csv(\"dbfs:/FileStore/tables/clientes.csv\", header=True, inferSchema=True)\n",
    "#produtos_df = spark.read.csv(\"dbfs:/FileStore/tables/produtos.csv\", header=True, inferSchema=True)\n",
    "\n",
    "#criei 3 dataframes ficticios para realização da prova pratica\n",
    "\n",
    "#vendas.csv\n",
    "vendas_data = [\n",
    "    (1, \"2024-06-01\", 101, 200.0, 2),\n",
    "    (2, \"2024-06-02\", 102, None, 1),\n",
    "    (3, \"2024-06-03\", 103, 300.0, 0),\n",
    "    (4, \"2024-06-04\", None, 150.0, 1),\n",
    "    (5, \"2024-06-05\", 104, -50.0, 1),\n",
    "    (6, \"2024-06-06\", 105, 500.0, 2),\n",
    "]\n",
    "vendas_schema = StructType([\n",
    "    StructField(\"ID\", IntegerType(), True),\n",
    "    StructField(\"Data\", StringType(), True),\n",
    "    StructField(\"ProdutoID\", IntegerType(), True),\n",
    "    StructField(\"Valor\", DoubleType(), True),\n",
    "    StructField(\"Quantidade\", IntegerType(), True),\n",
    "])\n",
    "df_vendas = spark.createDataFrame(vendas_data, vendas_schema)\n",
    "\n",
    "#clientes.csv\n",
    "clientes_data = [\n",
    "    (1, \"Ana\", 30, \"São Paulo\"),\n",
    "    (2, \"Bruno\", 40, \"Rio de Janeiro\"),\n",
    "    (None, \"Carlos\", 25, \"Belo Horizonte\"), \n",
    "    (4, \"Daniela\", 28, \"Curitiba\"),\n",
    "]\n",
    "clientes_schema = StructType([\n",
    "    StructField(\"ClienteID\", IntegerType(), True),\n",
    "    StructField(\"Nome\", StringType(), True),\n",
    "    StructField(\"Idade\", IntegerType(), True),\n",
    "    StructField(\"Cidade\", StringType(), True),\n",
    "])\n",
    "df_clientes = spark.createDataFrame(clientes_data, clientes_schema)\n",
    "\n",
    "#produtos.csv\n",
    "produtos_data = [\n",
    "    (101, \"Camiseta\", \"Vestuário\"),\n",
    "    (102, \"Notebook\", \"Eletrônicos\"),\n",
    "    (103, \"Cafeteira\", \"Eletrodomésticos\"),\n",
    "    (104, \"Fone de Ouvido\", \"Eletrônicos\"),\n",
    "    (105, \"Tênis\", \"Vestuário\"),\n",
    "]\n",
    "produtos_schema = StructType([\n",
    "    StructField(\"ProdutoID\", IntegerType(), True),\n",
    "    StructField(\"NomeProduto\", StringType(), True),\n",
    "    StructField(\"Categoria\", StringType(), True),\n",
    "])\n",
    "df_produtos = spark.createDataFrame(produtos_data, produtos_schema)"
   ]
  },
  {
   "cell_type": "markdown",
   "metadata": {
    "application/vnd.databricks.v1+cell": {
     "cellMetadata": {},
     "inputWidgets": {},
     "nuid": "80db6906-2613-41a0-b603-7a0a51f53d1f",
     "showTitle": false,
     "tableResultSettingsMap": {},
     "title": ""
    }
   },
   "source": [
    "#Visualização dos dados"
   ]
  },
  {
   "cell_type": "code",
   "execution_count": 0,
   "metadata": {
    "application/vnd.databricks.v1+cell": {
     "cellMetadata": {
      "byteLimit": 2048000,
      "rowLimit": 10000
     },
     "inputWidgets": {},
     "nuid": "1dde67ff-c4c3-4876-98d6-e15903229c94",
     "showTitle": false,
     "tableResultSettingsMap": {},
     "title": ""
    }
   },
   "outputs": [],
   "source": [
    "display(df_clientes)\n",
    "display(df_produtos)\n",
    "display(df_vendas)"
   ]
  },
  {
   "cell_type": "markdown",
   "metadata": {
    "application/vnd.databricks.v1+cell": {
     "cellMetadata": {
      "byteLimit": 2048000,
      "rowLimit": 10000
     },
     "inputWidgets": {},
     "nuid": "324f59db-8f11-4f9f-8842-48e1489b2e26",
     "showTitle": false,
     "tableResultSettingsMap": {},
     "title": ""
    }
   },
   "source": [
    "#Verificando inconsistencia de dados"
   ]
  },
  {
   "cell_type": "code",
   "execution_count": 0,
   "metadata": {
    "application/vnd.databricks.v1+cell": {
     "cellMetadata": {
      "byteLimit": 2048000,
      "rowLimit": 10000
     },
     "inputWidgets": {},
     "nuid": "fb301bfe-d467-4489-83a0-f698068639c6",
     "showTitle": false,
     "tableResultSettingsMap": {},
     "title": ""
    }
   },
   "outputs": [],
   "source": [
    "#Verificando se há valores nulos e dados inconsistentes em vendas\n",
    "\n",
    "df_vendas.select(\n",
    "    col(\"ProdutoID\").isNull().cast(\"int\").alias(\"ProdutoID_nulo\"),\n",
    "    col(\"Valor\").isNull().cast(\"int\").alias(\"Valor_nulo\"),\n",
    "    col(\"Quantidade\").isNull().cast(\"int\").alias(\"Quantidade_nulo\")\n",
    ").groupBy().sum().show()\n",
    "\n",
    "df_vendas.filter((col(\"Valor\") <= 0) | (col(\"Quantidade\") <= 0)).display()"
   ]
  },
  {
   "cell_type": "code",
   "execution_count": 0,
   "metadata": {
    "application/vnd.databricks.v1+cell": {
     "cellMetadata": {
      "byteLimit": 2048000,
      "rowLimit": 10000
     },
     "inputWidgets": {},
     "nuid": "a154432e-55fa-41b2-8d95-caf849ce8540",
     "showTitle": false,
     "tableResultSettingsMap": {},
     "title": ""
    }
   },
   "outputs": [],
   "source": [
    "#verificando se tem clientes com dados nulos\n",
    "df_clientes.select(\n",
    "    col(\"ClienteID\").isNull().cast(\"int\").alias(\"ClienteID_nulo\"),\n",
    "    col(\"Nome\").isNull().cast(\"int\").alias(\"Nome_nulo\"),\n",
    "    col(\"Idade\").isNull().cast(\"int\").alias(\"Idade_nulo\"),\n",
    "    col(\"Cidade\").isNull().cast(\"int\").alias(\"Cidade_nulo\")\n",
    ").groupBy().sum().display()"
   ]
  },
  {
   "cell_type": "markdown",
   "metadata": {
    "application/vnd.databricks.v1+cell": {
     "cellMetadata": {
      "byteLimit": 2048000,
      "rowLimit": 10000
     },
     "inputWidgets": {},
     "nuid": "25b62ac4-f5e9-4cb1-ac85-af67517a9325",
     "showTitle": false,
     "tableResultSettingsMap": {},
     "title": ""
    }
   },
   "source": [
    "#Limpeza dos dados"
   ]
  },
  {
   "cell_type": "code",
   "execution_count": 0,
   "metadata": {
    "application/vnd.databricks.v1+cell": {
     "cellMetadata": {
      "byteLimit": 2048000,
      "rowLimit": 10000
     },
     "inputWidgets": {},
     "nuid": "615eaf27-c22b-4b2d-9330-4bb2b6767aa3",
     "showTitle": false,
     "tableResultSettingsMap": {},
     "title": ""
    }
   },
   "outputs": [],
   "source": [
    "#Removendo linhas que contem valores nulos\n",
    "df_vendas = df_vendas.dropna(subset=[\"ProdutoID\", \"Valor\", \"Quantidade\"]).filter((col(\"Valor\") > 0) & (col(\"Quantidade\") > 0))\n",
    "df_clientes = df_clientes.dropna(subset=[\"ClienteID\"]).filter(col(\"Idade\") > 0)"
   ]
  },
  {
   "cell_type": "code",
   "execution_count": 0,
   "metadata": {
    "application/vnd.databricks.v1+cell": {
     "cellMetadata": {
      "byteLimit": 2048000,
      "rowLimit": 10000
     },
     "inputWidgets": {},
     "nuid": "74d3ce20-155d-479d-998d-ba4e44a351bb",
     "showTitle": false,
     "tableResultSettingsMap": {},
     "title": ""
    }
   },
   "outputs": [],
   "source": [
    "#visualização final depois das linhas excluidas\n",
    "display(df_vendas)\n",
    "display(df_clientes)"
   ]
  },
  {
   "cell_type": "markdown",
   "metadata": {
    "application/vnd.databricks.v1+cell": {
     "cellMetadata": {
      "byteLimit": 2048000,
      "rowLimit": 10000
     },
     "inputWidgets": {},
     "nuid": "7a288f3e-005a-4f6e-aa22-03d8b40c33a4",
     "showTitle": false,
     "tableResultSettingsMap": {},
     "title": ""
    }
   },
   "source": [
    "#Adicionando coluna TotalVenda em Vendas"
   ]
  },
  {
   "cell_type": "code",
   "execution_count": 0,
   "metadata": {
    "application/vnd.databricks.v1+cell": {
     "cellMetadata": {
      "byteLimit": 2048000,
      "rowLimit": 10000
     },
     "inputWidgets": {},
     "nuid": "95b5c21c-8b79-4c43-8257-b43d7964d8ca",
     "showTitle": false,
     "tableResultSettingsMap": {},
     "title": ""
    }
   },
   "outputs": [],
   "source": [
    "df_vendas = df_vendas.withColumn(\"TotalVenda\", col(\"Valor\") * col(\"Quantidade\"))\n",
    "display(df_vendas)"
   ]
  },
  {
   "cell_type": "markdown",
   "metadata": {
    "application/vnd.databricks.v1+cell": {
     "cellMetadata": {
      "byteLimit": 2048000,
      "rowLimit": 10000
     },
     "inputWidgets": {},
     "nuid": "35c75e3e-240a-4907-81ed-55115847b087",
     "showTitle": false,
     "tableResultSettingsMap": {},
     "title": ""
    }
   },
   "source": [
    "#junção de Dados - venda e clientes"
   ]
  },
  {
   "cell_type": "code",
   "execution_count": 0,
   "metadata": {
    "application/vnd.databricks.v1+cell": {
     "cellMetadata": {
      "byteLimit": 2048000,
      "rowLimit": 10000
     },
     "inputWidgets": {},
     "nuid": "5826872f-e01d-40ef-b219-be6071e3259a",
     "showTitle": false,
     "tableResultSettingsMap": {},
     "title": ""
    }
   },
   "outputs": [],
   "source": [
    "df_vendas_clientes = df_vendas.join(df_clientes, df_vendas[\"ID\"] == df_clientes[\"ClienteID\"], how =\"inner\")\n",
    "display(df_vendas_clientes)"
   ]
  },
  {
   "cell_type": "markdown",
   "metadata": {
    "application/vnd.databricks.v1+cell": {
     "cellMetadata": {
      "byteLimit": 2048000,
      "rowLimit": 10000
     },
     "inputWidgets": {},
     "nuid": "1bc795a3-c7d7-40c5-b414-6ca7f7c85e0b",
     "showTitle": false,
     "tableResultSettingsMap": {},
     "title": ""
    }
   },
   "source": [
    "#Junção de dados - Produtos"
   ]
  },
  {
   "cell_type": "code",
   "execution_count": 0,
   "metadata": {
    "application/vnd.databricks.v1+cell": {
     "cellMetadata": {
      "byteLimit": 2048000,
      "rowLimit": 10000
     },
     "inputWidgets": {},
     "nuid": "f214e66d-0793-4547-88ae-4c3793319669",
     "showTitle": false,
     "tableResultSettingsMap": {},
     "title": ""
    }
   },
   "outputs": [],
   "source": [
    "df_produtos_vendas_clientes = df_vendas_clientes.join(df_produtos, on=\"ProdutoID\", how=\"inner\")\n",
    "display(df_produtos_vendas_clientes)"
   ]
  },
  {
   "cell_type": "markdown",
   "metadata": {
    "application/vnd.databricks.v1+cell": {
     "cellMetadata": {
      "byteLimit": 2048000,
      "rowLimit": 10000
     },
     "inputWidgets": {},
     "nuid": "db443550-42e3-42d9-b74d-e99bc115f79c",
     "showTitle": false,
     "tableResultSettingsMap": {},
     "title": ""
    }
   },
   "source": [
    "#Análise Simples - Total de vendas por produto"
   ]
  },
  {
   "cell_type": "code",
   "execution_count": 0,
   "metadata": {
    "application/vnd.databricks.v1+cell": {
     "cellMetadata": {
      "byteLimit": 2048000,
      "rowLimit": 10000
     },
     "inputWidgets": {},
     "nuid": "f3b1e848-6af2-4c53-9f6f-177b62b4aa03",
     "showTitle": false,
     "tableResultSettingsMap": {},
     "title": ""
    }
   },
   "outputs": [],
   "source": [
    "df_total_vendas_produto = df_produtos_vendas_clientes.groupBy(\"NomeProduto\").agg(sum(\"TotalVenda\").alias(\"TotalVendas\"))\n",
    "display(df_total_vendas_produto)"
   ]
  },
  {
   "cell_type": "markdown",
   "metadata": {
    "application/vnd.databricks.v1+cell": {
     "cellMetadata": {
      "byteLimit": 2048000,
      "rowLimit": 10000
     },
     "inputWidgets": {},
     "nuid": "45e2cfe0-b3ba-4b3f-acae-9ece16f3b1a8",
     "showTitle": false,
     "tableResultSettingsMap": {},
     "title": ""
    }
   },
   "source": [
    "#Análise de Idade dos Clientes por Produto\n"
   ]
  },
  {
   "cell_type": "code",
   "execution_count": 0,
   "metadata": {
    "application/vnd.databricks.v1+cell": {
     "cellMetadata": {
      "byteLimit": 2048000,
      "rowLimit": 10000
     },
     "inputWidgets": {},
     "nuid": "237ba12a-b2bd-4fa8-a792-dfad1edb36a1",
     "showTitle": false,
     "tableResultSettingsMap": {},
     "title": ""
    }
   },
   "outputs": [],
   "source": [
    "df_media_idade_produto = df_produtos_vendas_clientes.groupBy(\"NomeProduto\").agg(avg(\"Idade\").alias(\"MediaIdadeClientes\"))\n",
    "display(df_media_idade_produto)"
   ]
  },
  {
   "cell_type": "markdown",
   "metadata": {
    "application/vnd.databricks.v1+cell": {
     "cellMetadata": {},
     "inputWidgets": {},
     "nuid": "978f8ecd-37b4-4471-8528-080cce4b9072",
     "showTitle": false,
     "tableResultSettingsMap": {},
     "title": ""
    }
   },
   "source": [
    "#Salvar os Dados Processados\n"
   ]
  },
  {
   "cell_type": "code",
   "execution_count": 0,
   "metadata": {
    "application/vnd.databricks.v1+cell": {
     "cellMetadata": {
      "byteLimit": 2048000,
      "rowLimit": 10000
     },
     "inputWidgets": {},
     "nuid": "c8793351-465a-4b8d-9eda-9ac78b480501",
     "showTitle": false,
     "tableResultSettingsMap": {},
     "title": ""
    }
   },
   "outputs": [],
   "source": [
    "df_media_idade_produto.write.mode(\"overwrite\").parquet(\"dbfs:/FileStore/tables/vendas_clientes_produtos/\")\n"
   ]
  },
  {
   "cell_type": "markdown",
   "metadata": {
    "application/vnd.databricks.v1+cell": {
     "cellMetadata": {},
     "inputWidgets": {},
     "nuid": "bb9a3a45-1b1f-45a1-b474-2acc0f0a00e6",
     "showTitle": false,
     "tableResultSettingsMap": {},
     "title": ""
    }
   },
   "source": [
    "#Consulta ao Conjunto de Dados Processados\n"
   ]
  },
  {
   "cell_type": "code",
   "execution_count": 0,
   "metadata": {
    "application/vnd.databricks.v1+cell": {
     "cellMetadata": {},
     "inputWidgets": {},
     "nuid": "d2b5a85a-5a85-4756-8ec4-c2e42fbaded8",
     "showTitle": false,
     "tableResultSettingsMap": {},
     "title": ""
    }
   },
   "outputs": [],
   "source": [
    "df_vendas_clientes_produtos = spark.read.parquet(\"dbfs:/FileStore/tables/vendas_clientes_produtos/\")\n",
    "display(df_vendas_clientes_produtos)"
   ]
  }
 ],
 "metadata": {
  "application/vnd.databricks.v1+notebook": {
   "computePreferences": null,
   "dashboards": [],
   "environmentMetadata": {
    "base_environment": "",
    "environment_version": "2"
   },
   "inputWidgetPreferences": null,
   "language": "python",
   "notebookMetadata": {
    "pythonIndentUnit": 4
   },
   "notebookName": "Prova_vaga_Eng_dados_junior_Pratica_v3_Atlanteam_Vinicius Bueno",
   "widgets": {}
  },
  "language_info": {
   "name": "python"
  }
 },
 "nbformat": 4,
 "nbformat_minor": 0
}
